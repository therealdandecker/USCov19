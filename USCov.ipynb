{
 "cells": [
  {
   "cell_type": "code",
   "execution_count": 16,
   "metadata": {},
   "outputs": [],
   "source": [
    "import requests\n",
    "import pandas as pd\n",
    "import bs4\n",
    "from bs4 import BeautifulSoup\n",
    "import sqlalchemy\n",
    "from sqlalchemy import create_engine\n",
    "#Create SQLite connection\n",
    "conn = create_engine('sqlite://')\n",
    "\n",
    "#Scrape data from worldometers website\n",
    "res = requests.get(\"https://www.worldometers.info/coronavirus/country/us/\")\n",
    "#Parse Data and get it ready for Pandas\n",
    "soup = BeautifulSoup(res.content,'lxml')\n",
    "table = soup.find_all('table')[0] \n",
    "#Put it in a Pandas Dataframe\n",
    "US = pd.read_html(str(table))[0]\n",
    "\n",
    "#Get US population data then do the same thing  here\n",
    "res = requests.get(\"https://worldpopulationreview.com/states/\")\n",
    "soup = BeautifulSoup(res.content,'lxml')\n",
    "table = soup.find_all('table')[0] \n",
    "USPop = pd.read_html(str(table))[0]\n",
    "\n",
    "#Pass dataframes to SQL for cleaning\n",
    "USPop.to_sql('USPop',conn, if_exists='replace')\n",
    "US.to_sql('USCov', conn, if_exists='replace')\n",
    "\n",
    "USF = pd.read_sql(\n",
    "  '''\n",
    "With Pop as (\n",
    "Select \n",
    "case when State='District of Columbia' then 'District Of Columbia' else State end as State, \n",
    "[2020 Pop.] as Pop, \n",
    "[% of US] as USPct \n",
    "from USPop)\n",
    "\n",
    "Select p.*, \n",
    "TotalCases, \n",
    "NewCases,\n",
    "TotalDeaths,\n",
    "NewDeaths, \n",
    "ActiveCases \n",
    "from Pop p \n",
    "LEFT JOIN USCov c on c.USAState=p.State\n",
    "''',conn\n",
    ")\n",
    "\n",
    "USF.to_csv('USACov.csv')"
   ]
  },
  {
   "cell_type": "code",
   "execution_count": null,
   "metadata": {},
   "outputs": [],
   "source": []
  },
  {
   "cell_type": "code",
   "execution_count": null,
   "metadata": {},
   "outputs": [],
   "source": []
  }
 ],
 "metadata": {
  "kernelspec": {
   "display_name": "Python 3",
   "language": "python",
   "name": "python3"
  },
  "language_info": {
   "codemirror_mode": {
    "name": "ipython",
    "version": 3
   },
   "file_extension": ".py",
   "mimetype": "text/x-python",
   "name": "python",
   "nbconvert_exporter": "python",
   "pygments_lexer": "ipython3",
   "version": "3.7.6"
  },
  "toc": {
   "base_numbering": 1,
   "nav_menu": {},
   "number_sections": false,
   "sideBar": false,
   "skip_h1_title": false,
   "title_cell": "Table of Contents",
   "title_sidebar": "Contents",
   "toc_cell": false,
   "toc_position": {},
   "toc_section_display": false,
   "toc_window_display": false
  }
 },
 "nbformat": 4,
 "nbformat_minor": 4
}
